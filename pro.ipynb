{
 "cells": [
  {
   "cell_type": "markdown",
   "metadata": {},
   "source": [
    "## Basic Python"
   ]
  },
  {
   "cell_type": "code",
   "execution_count": null,
   "metadata": {},
   "outputs": [],
   "source": [
    "print('Wahyu Ariprasasmita')\n",
    "print('Data Scientist')\n",
    "print(\"Wahyu \\\n",
    "    Ariprasasmita\")"
   ]
  },
  {
   "cell_type": "markdown",
   "metadata": {},
   "source": [
    "## Variable"
   ]
  },
  {
   "cell_type": "code",
   "execution_count": 2,
   "metadata": {},
   "outputs": [],
   "source": [
    "#String\n",
    "'''Mencetak String'''\n",
    "\n",
    "namaKaryawan= 'James'\n",
    "NamaKaryawan= 'James'\n",
    "nama_karyawan= 'James'"
   ]
  },
  {
   "cell_type": "code",
   "execution_count": 6,
   "metadata": {},
   "outputs": [
    {
     "name": "stdout",
     "output_type": "stream",
     "text": [
      "<class 'int'>\n",
      "<class 'float'>\n"
     ]
    }
   ],
   "source": [
    "#Integer\n",
    "'''Mencetak Integer'''\n",
    "\n",
    "angka_int= 2\n",
    "angka_float= 2.2\n",
    "print(type(angka_int))\n",
    "print(type(angka_float))\n",
    "#print(type(nama))"
   ]
  },
  {
   "cell_type": "markdown",
   "metadata": {},
   "source": []
  },
  {
   "cell_type": "code",
   "execution_count": 5,
   "metadata": {},
   "outputs": [
    {
     "name": "stdout",
     "output_type": "stream",
     "text": [
      "False\n",
      "True\n"
     ]
    }
   ],
   "source": [
    "#Boolean\n",
    "'''Mencetak Boolean'''\n",
    "\n",
    "print(8 >= 9)\n",
    "print(10 >= 9)"
   ]
  },
  {
   "cell_type": "markdown",
   "metadata": {},
   "source": [
    "## Operator"
   ]
  },
  {
   "cell_type": "code",
   "execution_count": 11,
   "metadata": {},
   "outputs": [
    {
     "name": "stdout",
     "output_type": "stream",
     "text": [
      "30\n",
      "-10\n",
      "0.5\n",
      "0\n",
      "100000000000000000000\n",
      "0\n"
     ]
    }
   ],
   "source": [
    "x= 5\n",
    "y= 20\n",
    "print(x + y)\n",
    "print(x - y)\n",
    "print(x / y) #Float\n",
    "print(x // y) #Integer\n",
    "print(x ** y) #Pangkat\n",
    "print(y % x) #Modulus / Sisa Bagi"
   ]
  },
  {
   "cell_type": "code",
   "execution_count": null,
   "metadata": {},
   "outputs": [],
   "source": [
    "print(x >= y)\n",
    "print(x <= y)\n",
    "print(x < y)\n",
    "print(x == y)\n",
    "print(x != y)"
   ]
  },
  {
   "cell_type": "code",
   "execution_count": 29,
   "metadata": {},
   "outputs": [
    {
     "name": "stdout",
     "output_type": "stream",
     "text": [
      "5\n"
     ]
    }
   ],
   "source": [
    "x=2\n",
    "y=5\n",
    "x=y\n",
    "print(x)"
   ]
  },
  {
   "cell_type": "markdown",
   "metadata": {},
   "source": [
    "## Casting"
   ]
  },
  {
   "cell_type": "code",
   "execution_count": null,
   "metadata": {},
   "outputs": [],
   "source": [
    "x = 2.589\n",
    "y = 2\n",
    "z = '5'\n",
    "\n",
    "print(int(x))\n",
    "print(float(y))\n",
    "print(float(z))\n",
    "print(str(x)+'2') #concat\n",
    "print(x+y)\n",
    "print(z+str(y)) #concat\n",
    "print(round(x)) #satu angka koma\n",
    "print(round(x,2)) #dua angka koma\n"
   ]
  },
  {
   "cell_type": "markdown",
   "metadata": {},
   "source": [
    "## String"
   ]
  },
  {
   "cell_type": "code",
   "execution_count": 35,
   "metadata": {},
   "outputs": [
    {
     "name": "stdout",
     "output_type": "stream",
     "text": [
      "Wahyu ariprasasmita\n",
      "wahyu ariprasasmita\n",
      "WAHyU aRIPRASAsMITA\n",
      "wahYu AriprasaSmitawahYu AriprasaSmita\n",
      "==========\n",
      "wahYu AriprasaSmita\n",
      "19\n"
     ]
    }
   ],
   "source": [
    "nama= 'wahYu AriprasaSmita'\n",
    "garis= '='\n",
    "\n",
    "print(nama.capitalize())\n",
    "print(nama.lower())\n",
    "print(nama.swapcase())\n",
    "print(nama*2)\n",
    "print(garis*10)\n",
    "print(nama)\n",
    "print(len(nama)) #mengetahui jumlah karakter"
   ]
  },
  {
   "cell_type": "markdown",
   "metadata": {},
   "source": [
    "## List"
   ]
  },
  {
   "cell_type": "code",
   "execution_count": 65,
   "metadata": {},
   "outputs": [
    {
     "name": "stdout",
     "output_type": "stream",
     "text": [
      "['Motor', 'Mobil', 'Kereta', 'Sepeda', 'Pesawat']\n"
     ]
    }
   ],
   "source": [
    "#Tuple = data berubah dan manipulasi\n",
    "#List = data tidak berubah\n",
    "\n",
    "listKendaraan= ['Motor', 'Mobil', 'Kereta', 'Sepeda', 'Pesawat']\n",
    "print(listKendaraan)"
   ]
  },
  {
   "cell_type": "code",
   "execution_count": 59,
   "metadata": {},
   "outputs": [
    {
     "name": "stdout",
     "output_type": "stream",
     "text": [
      "Pesawat\n",
      "5\n",
      "['Motor', 'Mobil', 30, 'Sepeda']\n",
      "['Motor', 30, 'Pesawat']\n",
      "30\n",
      "[30, 'Sepeda']\n"
     ]
    }
   ],
   "source": [
    "print(listKendaraan[4]) # index mulai dari 0\n",
    "print(len(listKendaraan))\n",
    "print(listKendaraan[0:4])\n",
    "print(listKendaraan[0:6:2]) #Start, end, step\n",
    "print(listKendaraan[-3])\n",
    "print(listKendaraan[-3 : -1])"
   ]
  },
  {
   "cell_type": "code",
   "execution_count": 62,
   "metadata": {},
   "outputs": [
    {
     "name": "stdout",
     "output_type": "stream",
     "text": [
      "['Motor', 'Mobil', 'Kereta', 'Sepeda', 'Pesawat']\n",
      "['Motor', 'Mobil', 30, 'Sepeda', 'Pesawat']\n"
     ]
    }
   ],
   "source": [
    "#Mengubah nama list\n",
    "\n",
    "print(listKendaraan)\n",
    "\n",
    "listKendaraan[2] = 30\n",
    "print(listKendaraan)\n"
   ]
  },
  {
   "cell_type": "code",
   "execution_count": 76,
   "metadata": {},
   "outputs": [
    {
     "name": "stdout",
     "output_type": "stream",
     "text": [
      "['Motor', 20, 'Pesawat', 'Becak']\n"
     ]
    }
   ],
   "source": [
    "listKendaraan= ['Motor', 'Mobil', 'Kereta', 'Sepeda', 'Pesawat', 'Becak']\n",
    "listKendaraan[1:4] = [20]\n",
    "print(listKendaraan)"
   ]
  },
  {
   "cell_type": "code",
   "execution_count": 73,
   "metadata": {},
   "outputs": [
    {
     "name": "stdout",
     "output_type": "stream",
     "text": [
      "['Motor', 20, 'gojek', 'Pesawat', 'Becak']\n"
     ]
    }
   ],
   "source": [
    "listKendaraan.insert (2, 'gojek')\n",
    "print(listKendaraan)"
   ]
  },
  {
   "cell_type": "code",
   "execution_count": 77,
   "metadata": {},
   "outputs": [
    {
     "name": "stdout",
     "output_type": "stream",
     "text": [
      "['Motor', 20, 'Pesawat', 'Becak', 'gojek']\n"
     ]
    }
   ],
   "source": [
    "listKendaraan.append('gojek')\n",
    "print(listKendaraan)"
   ]
  },
  {
   "cell_type": "markdown",
   "metadata": {},
   "source": [
    "## Menambahkan Data List"
   ]
  },
  {
   "cell_type": "code",
   "execution_count": 78,
   "metadata": {},
   "outputs": [
    {
     "name": "stdout",
     "output_type": "stream",
     "text": [
      "['Motor', 'Mobil', 'Kereta', 'Sepeda', 'Pesawat', 'Becak', ['Kucing', 'Kura-kura', 'Tikus', 'Laba-laba']]\n"
     ]
    }
   ],
   "source": [
    "listKendaraan= ['Motor', 'Mobil', 'Kereta', 'Sepeda', 'Pesawat', 'Becak']\n",
    "listBinatang= ['Kucing', 'Kura-kura', 'Tikus', 'Laba-laba']\n",
    "\n",
    "listKendaraan.append(listBinatang) #List dalan list\n",
    "print(listKendaraan)"
   ]
  },
  {
   "cell_type": "code",
   "execution_count": 80,
   "metadata": {},
   "outputs": [
    {
     "name": "stdout",
     "output_type": "stream",
     "text": [
      "['Motor', 'Mobil', 'Kereta', 'Sepeda', 'Pesawat', 'Becak', 'Kucing', 'Kura-kura', 'Tikus', 'Laba-laba']\n"
     ]
    }
   ],
   "source": [
    "listKendaraan= ['Motor', 'Mobil', 'Kereta', 'Sepeda', 'Pesawat', 'Becak']\n",
    "listBinatang= ['Kucing', 'Kura-kura', 'Tikus', 'Laba-laba']\n",
    "\n",
    "listKendaraan.extend(listBinatang) #List jadi satu\n",
    "print(listKendaraan)"
   ]
  },
  {
   "cell_type": "markdown",
   "metadata": {},
   "source": [
    "## Menghapus data atau element list"
   ]
  },
  {
   "cell_type": "code",
   "execution_count": 81,
   "metadata": {},
   "outputs": [
    {
     "name": "stdout",
     "output_type": "stream",
     "text": [
      "['Kucing', 'Kura-kura', 'Laba-laba']\n"
     ]
    }
   ],
   "source": [
    "listBinatang= ['Kucing', 'Kura-kura', 'Tikus', 'Laba-laba']\n",
    "listBinatang.remove('Tikus')\n",
    "\n",
    "print (listBinatang)"
   ]
  },
  {
   "cell_type": "code",
   "execution_count": 82,
   "metadata": {},
   "outputs": [
    {
     "name": "stdout",
     "output_type": "stream",
     "text": [
      "['Kucing', 'Kura-kura']\n"
     ]
    }
   ],
   "source": [
    "listBinatang= ['Kucing', 'Kura-kura', 'Tikus', 'Laba-laba']\n",
    "listBinatang.pop(2)\n",
    "listBinatang.pop() #Menghapus index terakhir\n",
    "\n",
    "print (listBinatang)"
   ]
  },
  {
   "cell_type": "code",
   "execution_count": 84,
   "metadata": {},
   "outputs": [
    {
     "name": "stdout",
     "output_type": "stream",
     "text": [
      "['Kucing', 'Kura-kura', 'Laba-laba']\n"
     ]
    }
   ],
   "source": [
    "listBinatang= ['Kucing', 'Kura-kura', 'Tikus', 'Laba-laba']\n",
    "del listBinatang[2]\n",
    "print (listBinatang)"
   ]
  },
  {
   "cell_type": "code",
   "execution_count": 86,
   "metadata": {},
   "outputs": [
    {
     "name": "stdout",
     "output_type": "stream",
     "text": [
      "[]\n"
     ]
    }
   ],
   "source": [
    "listBinatang= ['Kucing', 'Kura-kura', 'Tikus', 'Laba-laba']\n",
    "listBinatang.clear()\n",
    "print(listBinatang)"
   ]
  },
  {
   "cell_type": "markdown",
   "metadata": {},
   "source": [
    "## Tuple"
   ]
  },
  {
   "cell_type": "code",
   "execution_count": 87,
   "metadata": {},
   "outputs": [
    {
     "name": "stdout",
     "output_type": "stream",
     "text": [
      "('Kucing', 'Kura-kura', 'Tikus', 'Laba-laba')\n"
     ]
    }
   ],
   "source": [
    "#Saat menggunakan data fungsi\n",
    "#Tuple = data berubah dan manipulasi\n",
    "#List = data tidak berubah\n",
    "\n",
    "tupleBinatang= ('Kucing', 'Kura-kura', 'Tikus', 'Laba-laba')\n",
    "print(tupleBinatang)\n",
    "\n",
    "#Tuple Tidak Bisa Ubah Data"
   ]
  },
  {
   "cell_type": "code",
   "execution_count": null,
   "metadata": {},
   "outputs": [],
   "source": [
    "tupleBinatang[2] = 30\n",
    "print(tupleBinatang)\n",
    "\n",
    "#AKAN ERROR"
   ]
  },
  {
   "cell_type": "code",
   "execution_count": 88,
   "metadata": {},
   "outputs": [
    {
     "name": "stdout",
     "output_type": "stream",
     "text": [
      "('Kucing', 'Kura-kura', 30, 'Laba-laba')\n"
     ]
    }
   ],
   "source": [
    "tupleBinatang= ('Kucing', 'Kura-kura', 'Tikus', 'Laba-laba')\n",
    "binatang= list(tupleBinatang)\n",
    "binatang[2] = 30\n",
    "tupleBinatang= tuple(binatang)\n",
    "print(tupleBinatang)"
   ]
  },
  {
   "cell_type": "code",
   "execution_count": null,
   "metadata": {},
   "outputs": [],
   "source": []
  },
  {
   "cell_type": "code",
   "execution_count": null,
   "metadata": {},
   "outputs": [],
   "source": []
  },
  {
   "cell_type": "markdown",
   "metadata": {},
   "source": [
    "# Set"
   ]
  },
  {
   "cell_type": "code",
   "execution_count": 94,
   "metadata": {},
   "outputs": [
    {
     "name": "stdout",
     "output_type": "stream",
     "text": [
      "('Kucing', 'Kura-kura', 'Tikus', 'Laba-laba')\n"
     ]
    }
   ],
   "source": [
    "#Set Tidak Berurutan\n",
    "\n",
    "#Tuple = data berubah dan manipulasi\n",
    "#List = data tidak berubah\n",
    "\n",
    "setBinatang= ('Kucing', 'Kura-kura', 'Tikus', 'Laba-laba')\n",
    "print(setBinatang)"
   ]
  },
  {
   "cell_type": "code",
   "execution_count": 105,
   "metadata": {},
   "outputs": [
    {
     "name": "stdout",
     "output_type": "stream",
     "text": [
      "{'Kucing', 'Katak', 'Tikus', 'Kura-kura', 'Laba-laba'}\n"
     ]
    }
   ],
   "source": [
    "setBinatang= {'Kucing', 'Kura-kura', 'Tikus', 'Laba-laba'}\n",
    "setBinatang.add('Katak')\n",
    "print(setBinatang)"
   ]
  },
  {
   "cell_type": "markdown",
   "metadata": {},
   "source": [
    "# Dictionary"
   ]
  },
  {
   "cell_type": "code",
   "execution_count": 103,
   "metadata": {},
   "outputs": [
    {
     "name": "stdout",
     "output_type": "stream",
     "text": [
      "{'nama': 'Joko', 'kelas': 'Batch-17', 'umur': 20}\n"
     ]
    }
   ],
   "source": [
    "dictDataSiswa = {\n",
    "    'nama': 'Joko',\n",
    "    'kelas': 'Batch-17',\n",
    "    'umur': 20\n",
    "}\n",
    "print(dictDataSiswa)"
   ]
  },
  {
   "cell_type": "code",
   "execution_count": 107,
   "metadata": {},
   "outputs": [
    {
     "name": "stdout",
     "output_type": "stream",
     "text": [
      "Joko\n",
      "dict_keys(['nama', 'kelas', 'umur'])\n",
      "dict_values(['Joko', 'Batch-17', 20])\n",
      "dict_items([('nama', 'Joko'), ('kelas', 'Batch-17'), ('umur', 20)])\n"
     ]
    }
   ],
   "source": [
    "print(dictDataSiswa['nama'])\n",
    "print(dictDataSiswa.keys())\n",
    "print(dictDataSiswa.values())\n",
    "print(dictDataSiswa.items())"
   ]
  },
  {
   "cell_type": "code",
   "execution_count": 108,
   "metadata": {},
   "outputs": [
    {
     "name": "stdout",
     "output_type": "stream",
     "text": [
      "Wahyu\n",
      "{'nama': 'Wahyu', 'kelas': 'Batch-17', 'umur': 20}\n"
     ]
    }
   ],
   "source": [
    "dictDataSiswa['nama'] = 'Wahyu'\n",
    "print(dictDataSiswa['nama'])\n",
    "print(dictDataSiswa)"
   ]
  },
  {
   "cell_type": "code",
   "execution_count": 109,
   "metadata": {},
   "outputs": [
    {
     "name": "stdout",
     "output_type": "stream",
     "text": [
      "{'nama': 'Wahyu', 'umur': 20}\n"
     ]
    }
   ],
   "source": [
    "dictDataSiswa.pop('kelas')\n",
    "print(dictDataSiswa)"
   ]
  },
  {
   "cell_type": "code",
   "execution_count": 118,
   "metadata": {},
   "outputs": [
    {
     "name": "stdout",
     "output_type": "stream",
     "text": [
      "Frisca\n",
      "{'kelompok_1': {'name': 'Wahyu', 'age': '25', 'sex': 'M'}, 'kelompok_2': {'name': 'Frisca', 'age': '25', 'sex': 'M'}}\n"
     ]
    }
   ],
   "source": [
    "# nested dictionary\n",
    "people = {'kelompok_1': {'name': 'Wahyu', 'age': '25', 'sex': 'M'},\n",
    "          'kelompok_2': {'name': 'Frisca', 'age': '25', 'sex': 'M'}}\n",
    "\n",
    "print(people['kelompok_2']['name'])\n",
    "print(people)\n"
   ]
  },
  {
   "cell_type": "code",
   "execution_count": 122,
   "metadata": {},
   "outputs": [
    {
     "name": "stdout",
     "output_type": "stream",
     "text": [
      "{'nama': 'Joko', 'umur': 20, 'batch': 'Batch-17'}\n"
     ]
    }
   ],
   "source": [
    "dictDataSiswa = {\n",
    "    'nama': 'Joko',\n",
    "    'kelas': 'Batch-17',\n",
    "    'umur': 20\n",
    "}\n",
    "\n",
    "dictDataSiswa['batch'] = dictDataSiswa['kelas']\n",
    "del dictDataSiswa['kelas']\n",
    "print(dictDataSiswa)"
   ]
  }
 ],
 "metadata": {
  "kernelspec": {
   "display_name": "Python 3.8.2 64-bit",
   "language": "python",
   "name": "python3"
  },
  "language_info": {
   "codemirror_mode": {
    "name": "ipython",
    "version": 3
   },
   "file_extension": ".py",
   "mimetype": "text/x-python",
   "name": "python",
   "nbconvert_exporter": "python",
   "pygments_lexer": "ipython3",
   "version": "3.8.2"
  },
  "orig_nbformat": 4,
  "vscode": {
   "interpreter": {
    "hash": "31f2aee4e71d21fbe5cf8b01ff0e069b9275f58929596ceb00d14d90e3e16cd6"
   }
  }
 },
 "nbformat": 4,
 "nbformat_minor": 2
}
